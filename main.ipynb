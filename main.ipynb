{
  "cells": [
    {
      "cell_type": "code",
      "execution_count": 17,
      "metadata": {
        "id": "5KvCr0Wn8BzG"
      },
      "outputs": [],
      "source": [
        "import cv2\n",
        "import numpy as np\n",
        "import os\n",
        "import tensorflow as tf\n",
        "from google.colab import drive\n",
        "import pathlib\n",
        "from sklearn.model_selection import train_test_split\n",
        "import matplotlib.pyplot as plt"
      ]
    },
    {
      "cell_type": "code",
      "execution_count": 18,
      "metadata": {
        "id": "2rU-4PpJ8BzJ"
      },
      "outputs": [],
      "source": [
        "\n",
        "EPOCHS = 10 # can edit min is 10\n",
        "IMG_WIDTH = 30\n",
        "IMG_HEIGHT = 30\n",
        "NUM_CATEGORIES = 13\n",
        "TEST_SIZE = 0.5 # can edit 0.0 - 0.9\n"
      ]
    },
    {
      "cell_type": "code",
      "source": [
        "drive.mount('/content/drive', force_remount=True)"
      ],
      "metadata": {
        "colab": {
          "base_uri": "https://localhost:8080/"
        },
        "id": "2y6J4QzxtiZE",
        "outputId": "7eb2657b-be27-4db3-d0d8-65edc5a211df"
      },
      "execution_count": 19,
      "outputs": [
        {
          "output_type": "stream",
          "name": "stdout",
          "text": [
            "Mounted at /content/drive\n"
          ]
        }
      ]
    },
    {
      "cell_type": "code",
      "execution_count": 20,
      "metadata": {
        "id": "CBsHx0rM8BzK"
      },
      "outputs": [],
      "source": [
        "def load_data():\n",
        "    \"\"\"\n",
        "    Loads features and labels from the data folder.\n",
        "\n",
        "    Returns:\n",
        "        features: a numpy array of shape (num_samples, IMG_WIDTH * IMG_HEIGHT)\n",
        "        labels: a numpy array of shape (num_samples,)\n",
        "    \"\"\"\n",
        "    features = []\n",
        "    labels = []\n",
        "    for folder in os.listdir(\"/content/drive/MyDrive/data\"):\n",
        "        for image_path in os.listdir(os.path.join(\"/content/drive/MyDrive/data\", folder)):\n",
        "            # Read the image and resize it\n",
        "            image = cv2.imread(os.path.join(\"/content/drive/MyDrive/data\", folder, image_path), cv2.IMREAD_GRAYSCALE)\n",
        "            img=~image\n",
        "            if img is not None:\n",
        "                ret,thresh=cv2.threshold(img,127,255,cv2.THRESH_BINARY)\n",
        "                ctrs,ret=cv2.findContours(thresh,cv2.RETR_TREE,cv2.CHAIN_APPROX_SIMPLE)\n",
        "                cnt=sorted(ctrs, key=lambda ctr: cv2.boundingRect(ctr)[0])\n",
        "                w=int(IMG_WIDTH)\n",
        "                h=int(IMG_WIDTH)\n",
        "                maxi=0\n",
        "                for c in cnt:\n",
        "                    x,y,w,h=cv2.boundingRect(c)\n",
        "                    maxi=max(w*h,maxi)\n",
        "                    if maxi==w*h:\n",
        "                        x_max=x\n",
        "                        y_max=y\n",
        "                        w_max=w\n",
        "                        h_max=h\n",
        "                im_crop= thresh[y_max:y_max+h_max, x_max:x_max+w_max]\n",
        "                im_resize = cv2.resize(im_crop,(IMG_WIDTH,IMG_WIDTH))\n",
        "\n",
        "            # Flatten the image into a 1D array\n",
        "            features.append(im_resize.flatten())\n",
        "\n",
        "            # Add the label for this image\n",
        "            if folder == '+':\n",
        "                labels.append(int(10))\n",
        "            elif folder == '-':\n",
        "                labels.append(int(11))\n",
        "            elif folder == 'multiply':\n",
        "                labels.append(int(12))\n",
        "            else:\n",
        "                labels.append(int(folder))\n",
        "\n",
        "    return np.array(features), np.array(labels)"
      ]
    },
    {
      "cell_type": "code",
      "execution_count": 21,
      "metadata": {
        "id": "lRRdky498BzM"
      },
      "outputs": [],
      "source": [
        "def build_model():\n",
        "    \"\"\"\n",
        "    Builds and returns the model.\n",
        "    \"\"\"\n",
        "    model = tf.keras.models.Sequential([\n",
        "        tf.keras.layers.Flatten(input_shape=(IMG_WIDTH * IMG_HEIGHT,)),\n",
        "        tf.keras.layers.Dense(128, activation='relu'),\n",
        "        tf.keras.layers.Dense(64, activation='relu'),\n",
        "        tf.keras.layers.Dense(NUM_CATEGORIES, activation='softmax')\n",
        "    ])\n",
        "\n",
        "    model.compile(\n",
        "        optimizer='adam',\n",
        "        loss=tf.keras.losses.SparseCategoricalCrossentropy(from_logits=True),\n",
        "        metrics=['accuracy']\n",
        "    )\n",
        "\n",
        "    return model\n"
      ]
    },
    {
      "cell_type": "code",
      "execution_count": 22,
      "metadata": {
        "id": "ocp8acS08BzM"
      },
      "outputs": [],
      "source": [
        "def main():\n",
        "    # Load features and labels\n",
        "    features, labels = load_data()\n",
        "\n",
        "    # Split data into training and testing sets\n",
        "    train_features, test_features, train_labels, test_labels = train_test_split(\n",
        "        features, labels, test_size=TEST_SIZE\n",
        "    )\n",
        "\n",
        "    # Build the model\n",
        "    model = build_model()\n",
        "\n",
        "    # Train the model\n",
        "    history = model.fit(\n",
        "        train_features,\n",
        "        train_labels,\n",
        "        epochs=EPOCHS,\n",
        "        batch_size=32,\n",
        "        validation_data=(test_features, test_labels)\n",
        "    )\n",
        "\n",
        "    # plot loss and accuracy\n",
        "    plt.plot(history.history['loss'], label='loss')\n",
        "    plt.plot(history.history['val_loss'], label='val_loss')\n",
        "    plt.legend()\n",
        "    plt.show()\n",
        "\n",
        "    plt.plot(history.history['accuracy'], label='accuracy')\n",
        "    plt.plot(history.history['val_accuracy'], label='val_accuracy')\n",
        "    plt.legend()\n",
        "    plt.show()\n",
        "\n",
        "    # Save and download the model\n",
        "    model.save(\"handwritten_equation_solver.h5\")"
      ]
    },
    {
      "cell_type": "code",
      "execution_count": 23,
      "metadata": {
        "colab": {
          "base_uri": "https://localhost:8080/",
          "height": 864
        },
        "id": "Jamw8mZn8BzN",
        "outputId": "85b90d92-d256-4cda-fb97-af298cf13ccf"
      },
      "outputs": [
        {
          "output_type": "stream",
          "name": "stdout",
          "text": [
            "Epoch 1/10\n",
            "326/326 [==============================] - 3s 7ms/step - loss: 5.7463 - accuracy: 0.3388 - val_loss: 1.9268 - val_accuracy: 0.3895\n",
            "Epoch 2/10\n",
            "326/326 [==============================] - 2s 6ms/step - loss: 1.4951 - accuracy: 0.5373 - val_loss: 1.5248 - val_accuracy: 0.5963\n",
            "Epoch 3/10\n",
            "326/326 [==============================] - 3s 8ms/step - loss: 1.0989 - accuracy: 0.6838 - val_loss: 1.2785 - val_accuracy: 0.6901\n",
            "Epoch 4/10\n",
            "326/326 [==============================] - 3s 10ms/step - loss: 0.8194 - accuracy: 0.7646 - val_loss: 1.0505 - val_accuracy: 0.7626\n",
            "Epoch 5/10\n",
            "326/326 [==============================] - 2s 7ms/step - loss: 0.6606 - accuracy: 0.8132 - val_loss: 1.0123 - val_accuracy: 0.7663\n",
            "Epoch 6/10\n",
            "326/326 [==============================] - 2s 6ms/step - loss: 0.5495 - accuracy: 0.8468 - val_loss: 0.8338 - val_accuracy: 0.8193\n",
            "Epoch 7/10\n",
            "326/326 [==============================] - 2s 6ms/step - loss: 0.4032 - accuracy: 0.8765 - val_loss: 0.7805 - val_accuracy: 0.8285\n",
            "Epoch 8/10\n",
            "326/326 [==============================] - 2s 6ms/step - loss: 0.3615 - accuracy: 0.8888 - val_loss: 0.7223 - val_accuracy: 0.8566\n",
            "Epoch 9/10\n",
            "326/326 [==============================] - 2s 6ms/step - loss: 0.2819 - accuracy: 0.9122 - val_loss: 0.7225 - val_accuracy: 0.8659\n",
            "Epoch 10/10\n",
            "326/326 [==============================] - 3s 9ms/step - loss: 0.2998 - accuracy: 0.9144 - val_loss: 0.7401 - val_accuracy: 0.8603\n"
          ]
        },
        {
          "output_type": "display_data",
          "data": {
            "text/plain": [
              "<Figure size 432x288 with 1 Axes>"
            ],
            "image/png": "[encoded data removed]"
          },
          "metadata": {
            "needs_background": "light"
          }
        },
        {
          "output_type": "display_data",
          "data": {
            "text/plain": [
              "<Figure size 432x288 with 1 Axes>"
            ],
            "image/png": "[encoded data removed]"
          },
          "metadata": {
            "needs_background": "light"
          }
        }
      ],
      "source": [
        "main()"
      ]
    },
    {
      "cell_type": "code",
      "source": [
        "from google.colab import files\n",
        "files.download(\"/content/handwritten_equation_solver.h5\")"
      ],
      "metadata": {
        "colab": {
          "base_uri": "https://localhost:8080/",
          "height": 17
        },
        "id": "-7TOKLx334rI",
        "outputId": "b3b19f9a-4c28-42ca-cd35-f9bb011e1f0c"
      },
      "execution_count": 24,
      "outputs": [
        {
          "output_type": "display_data",
          "data": {
            "text/plain": [
              "<IPython.core.display.Javascript object>"
            ],
            "application/javascript": [
              "\n",
              "    async function download(id, filename, size) {\n",
              "      if (!google.colab.kernel.accessAllowed) {\n",
              "        return;\n",
              "      }\n",
              "      const div = document.createElement('div');\n",
              "      const label = document.createElement('label');\n",
              "      label.textContent = `Downloading \"${filename}\": `;\n",
              "      div.appendChild(label);\n",
              "      const progress = document.createElement('progress');\n",
              "      progress.max = size;\n",
              "      div.appendChild(progress);\n",
              "      document.body.appendChild(div);\n",
              "\n",
              "      const buffers = [];\n",
              "      let downloaded = 0;\n",
              "\n",
              "      const channel = await google.colab.kernel.comms.open(id);\n",
              "      // Send a message to notify the kernel that we're ready.\n",
              "      channel.send({})\n",
              "\n",
              "      for await (const message of channel.messages) {\n",
              "        // Send a message to notify the kernel that we're ready.\n",
              "        channel.send({})\n",
              "        if (message.buffers) {\n",
              "          for (const buffer of message.buffers) {\n",
              "            buffers.push(buffer);\n",
              "            downloaded += buffer.byteLength;\n",
              "            progress.value = downloaded;\n",
              "          }\n",
              "        }\n",
              "      }\n",
              "      const blob = new Blob(buffers, {type: 'application/binary'});\n",
              "      const a = document.createElement('a');\n",
              "      a.href = window.URL.createObjectURL(blob);\n",
              "      a.download = filename;\n",
              "      div.appendChild(a);\n",
              "      a.click();\n",
              "      div.remove();\n",
              "    }\n",
              "  "
            ]
          },
          "metadata": {}
        },
        {
          "output_type": "display_data",
          "data": {
            "text/plain": [
              "<IPython.core.display.Javascript object>"
            ],
            "application/javascript": [
              "download(\"download_2e6b21f1-25a8-48d8-b4c3-e88ad1569d4a\", \"handwritten_equation_solver.h5\", 1527320)"
            ]
          },
          "metadata": {}
        }
      ]
    }
  ],
  "metadata": {
    "kernelspec": {
      "display_name": "venv",
      "language": "python",
      "name": "python3"
    },
    "language_info": {
      "codemirror_mode": {
        "name": "ipython",
        "version": 3
      },
      "file_extension": ".py",
      "mimetype": "text/x-python",
      "name": "python",
      "nbconvert_exporter": "python",
      "pygments_lexer": "ipython3",
      "version": "3.10.9"
    },
    "orig_nbformat": 4,
    "vscode": {
      "interpreter": {
        "hash": "a4e893bbd86c81bede33f49d1a6c2f7ffb00043248e877ffa803d8fabe3e1c6c"
      }
    },
    "colab": {
      "provenance": []
    }
  },
  "nbformat": 4,
  "nbformat_minor": 0
}